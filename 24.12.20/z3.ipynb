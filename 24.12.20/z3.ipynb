{
 "cells": [
  {
   "cell_type": "code",
   "execution_count": 2,
   "metadata": {},
   "outputs": [],
   "source": [
    "from bs4 import BeautifulSoup\n",
    "import requests"
   ]
  },
  {
   "cell_type": "code",
   "execution_count": 14,
   "metadata": {},
   "outputs": [
    {
     "name": "stdout",
     "output_type": "stream",
     "text": [
      "USD : 1,449.20\n",
      "JPY(100엔) : 924.18\n",
      "EUR : 1,504.56\n",
      "CNY : 198.35\n"
     ]
    }
   ],
   "source": [
    "response = requests.get(\"https://finance.naver.com/marketindex/\")\n",
    "html = response.text\n",
    "soup = BeautifulSoup(html, \"html.parser\")\n",
    "data = [[\"통화\", \"환율\"]]\n",
    "country_datas = soup.select(\"#exchangeList h3.h_lst span.blind\")\n",
    "# print(country_datas)\n",
    "currency_datas = soup.select(\"#exchangeList span.value\")\n",
    "# print(currency_datas)\n",
    "\n",
    "for country, currency in zip(country_datas, currency_datas):\n",
    "    country = country.text.split()[-1]\n",
    "    currency = currency.text\n",
    "    print(f\"{country} : {currency}\")\n",
    "    data.append([country, currency])"
   ]
  },
  {
   "cell_type": "code",
   "execution_count": 15,
   "metadata": {},
   "outputs": [],
   "source": [
    "from openpyxl import Workbook\n",
    "\n",
    "wb = Workbook()\n",
    "ws = wb.active\n",
    "ws.title = \"통화&환율\"\n",
    "\n",
    "for row in data:\n",
    "    ws.append(row)\n",
    "\n",
    "wb.save(\".\\\\output\\\\z3.xlsx\")"
   ]
  }
 ],
 "metadata": {
  "kernelspec": {
   "display_name": "Python 3",
   "language": "python",
   "name": "python3"
  },
  "language_info": {
   "codemirror_mode": {
    "name": "ipython",
    "version": 3
   },
   "file_extension": ".py",
   "mimetype": "text/x-python",
   "name": "python",
   "nbconvert_exporter": "python",
   "pygments_lexer": "ipython3",
   "version": "3.13.0"
  }
 },
 "nbformat": 4,
 "nbformat_minor": 2
}
