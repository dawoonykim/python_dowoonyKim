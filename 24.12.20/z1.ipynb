{
 "cells": [
  {
   "cell_type": "code",
   "execution_count": 14,
   "metadata": {},
   "outputs": [],
   "source": [
    "from bs4 import BeautifulSoup\n",
    "import requests"
   ]
  },
  {
   "cell_type": "code",
   "execution_count": 11,
   "metadata": {},
   "outputs": [],
   "source": [
    "html_str = '''\n",
    "<html>\n",
    "    <body>\n",
    "        <div id=\"content\">\n",
    "            <ul class = 'industry'>\n",
    "                <li>인공지능</li>\n",
    "                <li>빅데이터</li>\n",
    "                <li>스마트팩토리</li>\n",
    "            </ul>\n",
    "            <ul class = 'comlang'>\n",
    "                <li>Python</li>\n",
    "                <li>C++</li>\n",
    "                <li>Javascript</li>\n",
    "            </ul>\n",
    "        </div>\n",
    "    </body>\n",
    "</html>\n",
    "'''"
   ]
  },
  {
   "cell_type": "code",
   "execution_count": 20,
   "metadata": {},
   "outputs": [
    {
     "name": "stdout",
     "output_type": "stream",
     "text": [
      "<ul class=\"industry\">\n",
      "<li>인공지능</li>\n",
      "<li>빅데이터</li>\n",
      "<li>스마트팩토리</li>\n",
      "</ul>\n",
      "\n",
      "인공지능\n",
      "빅데이터\n",
      "스마트팩토리\n",
      "\n"
     ]
    }
   ],
   "source": [
    "soup = BeautifulSoup(html_str, \"html.parser\")  # html 파싱\n",
    "\n",
    "# find() 사용하기\n",
    "# 처음 나오는 ul 태그로 찾기\n",
    "first_ul = soup.find(\"ul\")\n",
    "print(first_ul)\n",
    "print(first_ul.get_text()) # 태그 없이 텍스트 출력"
   ]
  },
  {
   "cell_type": "code",
   "execution_count": 22,
   "metadata": {},
   "outputs": [
    {
     "name": "stdout",
     "output_type": "stream",
     "text": [
      "[<li>인공지능</li>, <li>빅데이터</li>, <li>스마트팩토리</li>]\n",
      "<li>빅데이터</li>\n",
      "빅데이터\n"
     ]
    }
   ],
   "source": [
    "# 모든 요소를 li 태그로 찾기기\n",
    "first_all_li=first_ul.findAll(\"li\")\n",
    "print(first_all_li)\n",
    "print(first_all_li[1])\n",
    "print(first_all_li[1].text)"
   ]
  },
  {
   "cell_type": "code",
   "execution_count": 27,
   "metadata": {},
   "outputs": [
    {
     "name": "stdout",
     "output_type": "stream",
     "text": [
      "<ul class=\"comlang\">\n",
      "<li>Python</li>\n",
      "<li>C++</li>\n",
      "<li>Javascript</li>\n",
      "</ul>\n",
      "\n",
      "Python\n",
      "C++\n",
      "Javascript\n",
      "\n"
     ]
    }
   ],
   "source": [
    "# second_ul = soup.find(\"ul\", attrs={\"class\": \"comlang\"})\n",
    "second_ul = soup.find(\"ul\", class_=\"comlang\")\n",
    "print(second_ul)\n",
    "print(second_ul.text)"
   ]
  },
  {
   "cell_type": "code",
   "execution_count": 41,
   "metadata": {},
   "outputs": [
    {
     "name": "stdout",
     "output_type": "stream",
     "text": [
      "<ul class=\"industry\">\n",
      "<li>인공지능</li>\n",
      "<li>빅데이터</li>\n",
      "<li>스마트팩토리</li>\n",
      "</ul>\n",
      "\n",
      "인공지능\n",
      "빅데이터\n",
      "스마트팩토리\n",
      "\n"
     ]
    }
   ],
   "source": [
    "first_ul = soup.select_one(\"ul.industry\")\n",
    "print(first_ul)\n",
    "print(first_ul.text) # 태그 없이 텍스트 출력"
   ]
  },
  {
   "cell_type": "code",
   "execution_count": 45,
   "metadata": {},
   "outputs": [
    {
     "name": "stdout",
     "output_type": "stream",
     "text": [
      "[<li>인공지능</li>, <li>빅데이터</li>, <li>스마트팩토리</li>]\n",
      "<li>빅데이터</li>\n",
      "빅데이터\n"
     ]
    }
   ],
   "source": [
    "first_all_li = first_ul.select(\"ul.industry > li\")\n",
    "print(first_all_li)\n",
    "print(first_all_li[1])\n",
    "print(first_all_li[1].text)"
   ]
  },
  {
   "cell_type": "code",
   "execution_count": 53,
   "metadata": {},
   "outputs": [
    {
     "name": "stdout",
     "output_type": "stream",
     "text": [
      "<ul class=\"comlang\">\n",
      "<li>Python</li>\n",
      "<li>C++</li>\n",
      "<li>Javascript</li>\n",
      "</ul>\n",
      "\n",
      "Python\n",
      "C++\n",
      "Javascript\n",
      "\n"
     ]
    }
   ],
   "source": [
    "second_ul = soup.select_one(\"ul.comlang\")\n",
    "print(second_ul)\n",
    "print(second_ul.text)"
   ]
  },
  {
   "cell_type": "code",
   "execution_count": 59,
   "metadata": {},
   "outputs": [],
   "source": [
    "import openpyxl"
   ]
  },
  {
   "cell_type": "code",
   "execution_count": 63,
   "metadata": {},
   "outputs": [],
   "source": [
    "wb=openpyxl.Workbook()\n",
    "\n",
    "ws=wb.create_sheet(\"codingon\")\n",
    "\n",
    "ws[\"A1\"]=\"이름\"\n",
    "ws[\"B1\"]=\"영어이름\"\n",
    "\n",
    "ws[\"A2\"]=\"홍길동\"\n",
    "ws[\"B2\"]=\"hong\"\n",
    "\n",
    "wb.save(\".\\\\output\\\\codingon_exercise.xlsx\")"
   ]
  },
  {
   "cell_type": "code",
   "execution_count": 65,
   "metadata": {},
   "outputs": [],
   "source": [
    "wb = openpyxl.load_workbook(\".\\\\output\\\\codingon_exercise.xlsx\")\n",
    "\n",
    "ws = wb[\"codingon\"]\n",
    "\n",
    "ws[\"A3\"] = \"김소연\"\n",
    "ws[\"B3\"] = \"lily\"\n",
    "\n",
    "wb.save(\".\\\\output\\\\codingon_exercise.xlsx\")"
   ]
  },
  {
   "cell_type": "code",
   "execution_count": 67,
   "metadata": {},
   "outputs": [],
   "source": [
    "from openpyxl import Workbook\n",
    "\n",
    "wb = Workbook()\n",
    "\n",
    "ws = wb.active\n",
    "ws.title = \"Data\"\n",
    "\n",
    "data = [\n",
    "    [\"Name\", \"Age\"],\n",
    "    [\"Alice\", 30],\n",
    "    [\"Bob\", 25],\n",
    "    [\"Charlie\", 35]\n",
    "]\n",
    "\n",
    "for row in data:\n",
    "  ws.append(row)\n",
    "\n",
    "wb.save(\".\\\\output\\\\practice.xlsx\")"
   ]
  },
  {
   "cell_type": "code",
   "execution_count": null,
   "metadata": {},
   "outputs": [],
   "source": []
  }
 ],
 "metadata": {
  "kernelspec": {
   "display_name": "Python 3",
   "language": "python",
   "name": "python3"
  },
  "language_info": {
   "codemirror_mode": {
    "name": "ipython",
    "version": 3
   },
   "file_extension": ".py",
   "mimetype": "text/x-python",
   "name": "python",
   "nbconvert_exporter": "python",
   "pygments_lexer": "ipython3",
   "version": "3.13.0"
  }
 },
 "nbformat": 4,
 "nbformat_minor": 2
}
