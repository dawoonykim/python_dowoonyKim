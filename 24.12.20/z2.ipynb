{
 "cells": [
  {
   "cell_type": "code",
   "execution_count": 15,
   "metadata": {},
   "outputs": [
    {
     "name": "stdout",
     "output_type": "stream",
     "text": [
      "검색어 : 김연아\n",
      "1번 째\n",
      "title : 김연아·수지 이어… 성탄절 美 타임스스퀘어에 뜨는 배우\n",
      "href : https://www.chosun.com/culture-life/culture_general/2024/12/18/HR55ME57XNEKNP35OUIZIPCDUI/?utm_source=naver&utm_medium=referral&utm_campaign=naver-news\n",
      "2번 째\n",
      "title : 수지·김연아 이어 김태리…한복 입고 美 타임스스퀘어 뜬다\n",
      "href : https://www.hankyung.com/article/2024121964827\n",
      "3번 째\n",
      "title : 김연아→뉴진스 해린 ‘디올 뷰티 홀리데이 팝업’ 오프닝 행사 참석\n",
      "href : https://mydaily.co.kr/page/view/2024121813505770010\n",
      "4번 째\n",
      "title : 김연아, 드레스 입고 우아美…♥고우림 또 반할 듯\n",
      "href : https://www.newsis.com/view/NISX20241209_0002990130\n",
      "5번 째\n",
      "title : 정지소, 제2의 김연아 될 뻔 “父 권유로 피겨 선수 활동, 돈만 날렸다” (라디오쇼)\n",
      "href : https://www.newsen.com/news_view.php?uid=202412181141301110\n",
      "6번 째\n",
      "title : 김연아, 여왕의 품격 [스타★샷]\n",
      "href : https://www.sportsworldi.com/newsView/20241210504105\n",
      "7번 째\n",
      "title : [IS포토] 우아한 '김연아'\n",
      "href : http://www.ilyoseoul.co.kr/news/articleView.html?idxno=496109\n",
      "8번 째\n",
      "title : 현영, 김연아 母처럼 쏟은 정성 어쩌나…\"딸 사춘기 시작 아들이 더 잘해줘\"\n",
      "href : https://tenasia.hankyung.com/article/2024121223254\n",
      "9번 째\n",
      "title : 김연아, 우아함의 끝\n",
      "href : https://sports.hankooki.com/news/articleView.html?idxno=6883180\n",
      "10번 째\n",
      "title : 김연아, 차원이 다른 우아함..등장만으로도 분위기 압도\n",
      "href : http://www.heraldpop.com/view.php?ud=202412091706045522888_1\n"
     ]
    }
   ],
   "source": [
    "from bs4 import BeautifulSoup\n",
    "import requests\n",
    "\n",
    "find_content = input(\"검색어 입력\")\n",
    "response = requests.get(\n",
    "    f\"https://search.naver.com/search.naver?where=news&query={find_content}\")\n",
    "html = response.text\n",
    "soup = BeautifulSoup(html, \"html.parser\")\n",
    "\n",
    "datas = soup.select(\"a.news_tit\")\n",
    "# print(datas)\n",
    "print(f\"검색어 : {find_content}\")\n",
    "for index in range(len(datas)):\n",
    "    print(f\"{index+1}번 째\\ntitle : {datas[index]\n",
    "          [\"title\"]}\\nhref : {datas[index][\"href\"]}\")\n",
    "\n",
    "\n",
    "# sample_data=soup.select_one(\"a.news_tit\")\n",
    "# print(sample_data)\n",
    "\n",
    "# print(sample_data[\"href\"])\n",
    "# print(sample_data[\"title\"])"
   ]
  }
 ],
 "metadata": {
  "kernelspec": {
   "display_name": "Python 3",
   "language": "python",
   "name": "python3"
  },
  "language_info": {
   "codemirror_mode": {
    "name": "ipython",
    "version": 3
   },
   "file_extension": ".py",
   "mimetype": "text/x-python",
   "name": "python",
   "nbconvert_exporter": "python",
   "pygments_lexer": "ipython3",
   "version": "3.13.0"
  }
 },
 "nbformat": 4,
 "nbformat_minor": 2
}
