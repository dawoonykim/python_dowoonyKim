{
 "cells": [
  {
   "cell_type": "code",
   "execution_count": 1,
   "metadata": {},
   "outputs": [],
   "source": [
    "import requests"
   ]
  },
  {
   "cell_type": "code",
   "execution_count": null,
   "metadata": {},
   "outputs": [],
   "source": [
    "# response=requests.get(\"https://brand.naver.com/ottogimall/products/9769586677?nl-query=%EC%97%B4%EB%9D%BC%EB%A9%B4&nl-au=09fe30f8c4864ee988b69d145808170c&NaPm=ci%3D09fe30f8c4864ee988b69d145808170c%7Cct%3Dm4w0lrif%7Ctr%3Dnslbrd%7Csn%3D3135658%7Chk%3D95fa37083823f7b87bc8015fba4e8db083384e97\")\n",
    "# html=response.text\n",
    "# # print(html)"
   ]
  },
  {
   "cell_type": "code",
   "execution_count": 23,
   "metadata": {},
   "outputs": [],
   "source": [
    "from bs4 import BeautifulSoup\n",
    "# soup=BeautifulSoup(html,\"html.parser\")# "
   ]
  },
  {
   "cell_type": "code",
   "execution_count": 24,
   "metadata": {},
   "outputs": [],
   "source": [
    "from bs4 import BeautifulSoup\n",
    "\n",
    "html_str = '''\n",
    "<html>\n",
    "    <body>\n",
    "        <div id=\"content\">\n",
    "            <ul class = 'industry'>\n",
    "                <li>인공지능</li>\n",
    "                <li>빅데이터</li>\n",
    "                <li>스마트팩토리</li>\n",
    "            </ul>\n",
    "            <ul class = 'comlang'>\n",
    "                <li>Python</li>\n",
    "                <li>C++</li>\n",
    "                <li>Javascript</li>\n",
    "            </ul>\n",
    "        </div>\n",
    "    </body>\n",
    "</html>\n",
    "'''\n",
    "soup = BeautifulSoup(html_str, \"html.parser\") # html 파싱싱"
   ]
  },
  {
   "cell_type": "code",
   "execution_count": 35,
   "metadata": {},
   "outputs": [
    {
     "name": "stdout",
     "output_type": "stream",
     "text": [
      "<ul class=\"industry\">\n",
      "<li>인공지능</li>\n",
      "<li>빅데이터</li>\n",
      "<li>스마트팩토리</li>\n",
      "</ul>\n",
      "\n",
      "인공지능\n",
      "빅데이터\n",
      "스마트팩토리\n",
      "\n",
      "\n",
      "인공지능\n",
      "빅데이터\n",
      "스마트팩토리\n",
      "\n"
     ]
    }
   ],
   "source": [
    "first_ul=soup.find(\"ul\")\n",
    "print(first_ul)\n",
    "print(first_ul.text)\n",
    "print(first_ul.get_text())"
   ]
  },
  {
   "cell_type": "code",
   "execution_count": 33,
   "metadata": {},
   "outputs": [
    {
     "name": "stdout",
     "output_type": "stream",
     "text": [
      "[<li>인공지능</li>, <li>빅데이터</li>, <li>스마트팩토리</li>]\n",
      "<li>인공지능</li>\n",
      "<li>빅데이터</li>\n",
      "<li>스마트팩토리</li>\n",
      "스마트팩토리\n"
     ]
    }
   ],
   "source": [
    "first_all_li=first_ul.findAll(\"li\")\n",
    "print(first_all_li)\n",
    "print(first_all_li[0])\n",
    "print(first_all_li[1])\n",
    "print(first_all_li[2])\n",
    "print(first_all_li[2].text)"
   ]
  },
  {
   "cell_type": "code",
   "execution_count": 41,
   "metadata": {},
   "outputs": [
    {
     "name": "stdout",
     "output_type": "stream",
     "text": [
      "1번째 first_all_li[0] : 인공지능\n",
      "2번째 first_all_li[1] : 빅데이터\n",
      "3번째 first_all_li[2] : 스마트팩토리\n"
     ]
    }
   ],
   "source": [
    "for i in range(len(first_all_li)):\n",
    "  print(f\"{i+1}번째 first_all_li[{i}] : {first_all_li[i].text}\")"
   ]
  },
  {
   "cell_type": "code",
   "execution_count": 44,
   "metadata": {},
   "outputs": [
    {
     "name": "stdout",
     "output_type": "stream",
     "text": [
      "<ul class=\"comlang\">\n",
      "<li>Python</li>\n",
      "<li>C++</li>\n",
      "<li>Javascript</li>\n",
      "</ul>\n",
      "\n",
      "Python\n",
      "C++\n",
      "Javascript\n",
      "\n"
     ]
    }
   ],
   "source": [
    "# second_ul = soup.find(\"ul\", attrs={\"cless\": \"comlang\"})\n",
    "second_ul = soup.find(\"ul\", class_=\"comlang\")\n",
    "print(second_ul)\n",
    "print(second_ul.text)"
   ]
  },
  {
   "cell_type": "code",
   "execution_count": 46,
   "metadata": {},
   "outputs": [
    {
     "name": "stdout",
     "output_type": "stream",
     "text": [
      "<ul class=\"industry\">\n",
      "<li>인공지능</li>\n",
      "<li>빅데이터</li>\n",
      "<li>스마트팩토리</li>\n",
      "</ul>\n",
      "\n",
      "인공지능\n",
      "빅데이터\n",
      "스마트팩토리\n",
      "\n"
     ]
    }
   ],
   "source": [
    "first_ul=soup.select_one(\"ul.industry\")\n",
    "print(first_ul)\n",
    "print(first_ul.text)"
   ]
  },
  {
   "cell_type": "code",
   "execution_count": 50,
   "metadata": {},
   "outputs": [
    {
     "name": "stdout",
     "output_type": "stream",
     "text": [
      "[<li>인공지능</li>, <li>빅데이터</li>, <li>스마트팩토리</li>]\n",
      "<li>빅데이터</li>\n",
      "빅데이터\n"
     ]
    }
   ],
   "source": [
    "# first_all_li = first_ul.select(\"ul.industry>li\") # ul.industry 밑에 있는 li 추출출\n",
    "first_all_li = first_ul.select(\"ul.industry li\")\n",
    "print(first_all_li)\n",
    "print(first_all_li[1])\n",
    "print(first_all_li[1].text)"
   ]
  },
  {
   "cell_type": "code",
   "execution_count": 60,
   "metadata": {},
   "outputs": [
    {
     "name": "stdout",
     "output_type": "stream",
     "text": [
      "\n",
      "\n",
      "인공지능\n",
      "빅데이터\n",
      "스마트팩토리\n",
      "\n",
      "\n",
      "Python\n",
      "C++\n",
      "Javascript\n",
      "\n",
      "\n"
     ]
    }
   ],
   "source": [
    "idid=soup.select(\"#content\")\n",
    "# print(len)\n",
    "# print(idid)\n",
    "# print(idid[0]) => 하나라도 리스트를 선언언\n",
    "print(idid[0].text)"
   ]
  },
  {
   "cell_type": "code",
   "execution_count": null,
   "metadata": {},
   "outputs": [],
   "source": []
  }
 ],
 "metadata": {
  "kernelspec": {
   "display_name": "Python 3",
   "language": "python",
   "name": "python3"
  },
  "language_info": {
   "codemirror_mode": {
    "name": "ipython",
    "version": 3
   },
   "file_extension": ".py",
   "mimetype": "text/x-python",
   "name": "python",
   "nbconvert_exporter": "python",
   "pygments_lexer": "ipython3",
   "version": "3.13.0"
  }
 },
 "nbformat": 4,
 "nbformat_minor": 2
}
