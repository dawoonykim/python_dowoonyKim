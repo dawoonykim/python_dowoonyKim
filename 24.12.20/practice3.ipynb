{
 "cells": [
  {
   "cell_type": "code",
   "execution_count": 1,
   "metadata": {},
   "outputs": [],
   "source": [
    "import openpyxl"
   ]
  },
  {
   "cell_type": "code",
   "execution_count": 11,
   "metadata": {},
   "outputs": [],
   "source": [
    "wb=openpyxl.load_workbook(r\"./output/codingon.xlsx\")\n",
    "ws=wb[\"codingon\"]\n",
    "ws[\"A4\"]=\"김소연\"\n",
    "ws[\"B4\"]=\"lily\"\n",
    "\n",
    "wb.save(\"./output/codingon.xlsx\")"
   ]
  },
  {
   "cell_type": "code",
   "execution_count": null,
   "metadata": {},
   "outputs": [],
   "source": []
  },
  {
   "cell_type": "code",
   "execution_count": 13,
   "metadata": {},
   "outputs": [],
   "source": [
    "from openpyxl import Workbook"
   ]
  },
  {
   "cell_type": "code",
   "execution_count": 15,
   "metadata": {},
   "outputs": [],
   "source": [
    "wb=Workbook()\n",
    "ws=wb.active\n",
    "ws.title=\"Data\"\n",
    "\n",
    "data=[\n",
    "  [\"Name\",\"Age\"],\n",
    "  [\"Alice\",30],\n",
    "  [\"Bob\",25],\n",
    "  [\"Charlie\",35]\n",
    "]\n",
    "\n",
    "for row in data:\n",
    "  ws.append(row)\n",
    "\n",
    "wb.save(\".\\\\output\\\\append_example.xlsx\")"
   ]
  }
 ],
 "metadata": {
  "kernelspec": {
   "display_name": "Python 3",
   "language": "python",
   "name": "python3"
  },
  "language_info": {
   "codemirror_mode": {
    "name": "ipython",
    "version": 3
   },
   "file_extension": ".py",
   "mimetype": "text/x-python",
   "name": "python",
   "nbconvert_exporter": "python",
   "pygments_lexer": "ipython3",
   "version": "3.13.0"
  }
 },
 "nbformat": 4,
 "nbformat_minor": 2
}
