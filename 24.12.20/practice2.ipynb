{
 "cells": [
  {
   "cell_type": "code",
   "execution_count": 1,
   "metadata": {},
   "outputs": [],
   "source": [
    "import openpyxl"
   ]
  },
  {
   "cell_type": "code",
   "execution_count": 8,
   "metadata": {},
   "outputs": [],
   "source": [
    "wb=openpyxl.Workbook()\n",
    "ws=wb.create_sheet(\"codingon\")\n",
    "ws[\"A1\"]=\"이름\"\n",
    "ws[\"B1\"]=\"영어이름\"\n",
    "ws[\"A2\"]=\"홍길동\"\n",
    "ws[\"B2\"]=\"hong\"\n",
    "ws[\"A3\"]=\"김세령\"\n",
    "ws[\"B3\"]=\"sarah\"\n",
    "wb.save(\"./output/codingon.xlsx\")"
   ]
  }
 ],
 "metadata": {
  "kernelspec": {
   "display_name": "Python 3",
   "language": "python",
   "name": "python3"
  },
  "language_info": {
   "codemirror_mode": {
    "name": "ipython",
    "version": 3
   },
   "file_extension": ".py",
   "mimetype": "text/x-python",
   "name": "python",
   "nbconvert_exporter": "python",
   "pygments_lexer": "ipython3",
   "version": "3.13.0"
  }
 },
 "nbformat": 4,
 "nbformat_minor": 2
}
