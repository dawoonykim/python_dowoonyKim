{
 "cells": [
  {
   "cell_type": "code",
   "execution_count": 2,
   "metadata": {},
   "outputs": [],
   "source": [
    "from bs4 import BeautifulSoup\n",
    "import requests"
   ]
  },
  {
   "cell_type": "code",
   "execution_count": 118,
   "metadata": {},
   "outputs": [],
   "source": [
    "sss = \"\"\"\n",
    "  <div class=\"a\">\n",
    "    <a herf=\"https://www.naver.com\" class=\"dsc_thumb\"></a>\n",
    "  </div>\n",
    "\"\"\"\n",
    "\n",
    "soup = BeautifulSoup(sss, \"html.parser\")"
   ]
  },
  {
   "cell_type": "code",
   "execution_count": null,
   "metadata": {},
   "outputs": [],
   "source": [
    "b=soup.select_one(\"div a\")\n",
    "print(b)\n",
    "print(b[\"herf\"])\n",
    "print(b[\"class\"])"
   ]
  },
  {
   "cell_type": "code",
   "execution_count": 120,
   "metadata": {},
   "outputs": [],
   "source": [
    "# # https://search.naver.com/search.naver?where=news&query=%EB%82%A0%EC%94%A8\n"
   ]
  },
  {
   "cell_type": "code",
   "execution_count": 121,
   "metadata": {},
   "outputs": [],
   "source": [
    "# import requests\n",
    "# from bs4 import BeautifulSoup\n",
    "\n",
    "# keyword = input(\"검색어를 입력하세요 : \")\n",
    "# try:\n",
    "#     response = requests.get(f\"https://search.naver.com/search.naver?where=news&query={keyword}\")\n",
    "#     response.raise_for_status()  # HTTP 오류 발생 시 예외를 발생시킴\n",
    "#     html = response.text\n",
    "#     soup = BeautifulSoup(html, \"html.parser\")\n",
    "#     data1 = soup.select(\"a.news_tit\")\n",
    "#     for item in data1:\n",
    "#         href = item.get(\"href\")\n",
    "#         title = item.get(\"title\")\n",
    "#         print(f\"href  : {href}\\ntitle : {title}\")\n",
    "# except KeyboardInterrupt:\n",
    "#     print(\"\\n프로그램이 사용자에 의해 중단되었습니다.\")\n",
    "# except requests.exceptions.RequestException as e:\n",
    "#     print(f\"HTTP 요청 중 오류가 발생했습니다: {e}\")\n"
   ]
  },
  {
   "cell_type": "code",
   "execution_count": null,
   "metadata": {},
   "outputs": [],
   "source": [
    "\n",
    "# response=requests.get(\"https://search.naver.com/search.naver?where=news&query={%EB%82%A0%EC%94%A8}\")\n",
    "# html=response.text\n",
    "# soup=BeautifulSoup(html,\"html.parser\")\n",
    "# print(soup)\n",
    "# data1 = soup.select(\"a.news_tit\")\n",
    "# print(data1)\n",
    "# for item in data1:\n",
    "#   print(f\"href  : {item[\"href\"]}\\ntitle : {item[\"title\"]}\")"
   ]
  },
  {
   "cell_type": "code",
   "execution_count": null,
   "metadata": {},
   "outputs": [],
   "source": [
    "# data1 = soup.select(\"div.group_news\")\n",
    "# # print(data1)\n",
    "# data2 = data1.select(\"li.bx\")\n",
    "# # print(data2)\n",
    "# data3 = data2.select(\"ul.list_news _infinite_list\")\n",
    "# for item in data2:\n",
    "#     news = item.select(\"div.news_tit\")\n",
    "#     for news_tit in news:\n",
    "#         href=news.get(\"href\")\n",
    "#         print(href)"
   ]
  },
  {
   "cell_type": "code",
   "execution_count": 4,
   "metadata": {},
   "outputs": [
    {
     "name": "stdout",
     "output_type": "stream",
     "text": [
      "[<a class=\"news_tit\" href=\"https://www.news1.kr/sports/overseas-soccer/5637876\" onclick=\"return goOtherCR(this, 'a=nws*a.tit&amp;r=1&amp;i=08138263_000000000000000007978593&amp;g=421.0007978593&amp;u='+urlencode(this.href));\" target=\"_blank\" title=\"'판타스틱 코너킥 골' 구세주 손흥민, 토트넘 리그컵 4강행 견인\">'판타스틱 코너킥 골' 구세주 <mark>손흥민</mark>, 토트넘 리그컵 4강행 견인</a>, <a class=\"news_tit\" href=\"https://www.newsis.com/view/NISI20241220_0001733258\" onclick=\"return goOtherCR(this, 'a=nws*a.tit&amp;r=4&amp;i=88000127_000000000000000012972998&amp;g=003.0012972998&amp;u='+urlencode(this.href));\" target=\"_blank\" title=\"'결승 골' 세리머니하는 손흥민\">'결승 골' 세리머니하는 <mark>손흥민</mark></a>, <a class=\"news_tit\" href=\"https://news.sbs.co.kr/news/endPage.do?news_id=N1007919580&amp;plink=ORI&amp;cooper=NAVER\" onclick=\"return goOtherCR(this, 'a=nws*a.tit&amp;r=9&amp;i=8800011C_000000000000000001216959&amp;g=055.0001216959&amp;u='+urlencode(this.href));\" target=\"_blank\" title=\"손흥민, 코너킥 다이렉트 골…토트넘 카라바오컵 준결승 진출\"><mark>손흥민</mark>, 코너킥 다이렉트 골…토트넘 카라바오컵 준결승 진출</a>, <a class=\"news_tit\" href=\"https://sports.hankooki.com/news/articleView.html?idxno=6884434\" onclick=\"return goOtherCR(this, 'a=nws*b.tit&amp;r=14&amp;i=88155e69_000000000000000000468033&amp;g=5359.0000468033&amp;u='+urlencode(this.href));\" target=\"_blank\" title=\"손흥민의 코너킥골, 득점확률은 '1%'\"><mark>손흥민</mark>의 코너킥골, 득점확률은 '1%'</a>, <a class=\"news_tit\" href=\"https://imnews.imbc.com/news/2024/sports/article/6669264_36466.html\" onclick=\"return goOtherCR(this, 'a=nws*a.tit&amp;r=18&amp;i=88000119_000000000000000001395081&amp;g=214.0001395081&amp;u='+urlencode(this.href));\" target=\"_blank\" title=\"'코너킥 직접 득점' 손흥민, 시즌 7호골‥토트넘 4강 진출\">'코너킥 직접 득점' <mark>손흥민</mark>, 시즌 7호골‥토트넘 4강 진출</a>, <a class=\"news_tit\" href=\"https://news.kbs.co.kr/news/pc/view/view.do?ncd=8134591&amp;ref=A\" onclick=\"return goOtherCR(this, 'a=nws*a.tit&amp;r=23&amp;i=88000114_000000000000000011860964&amp;g=056.0011860964&amp;u='+urlencode(this.href));\" target=\"_blank\" title=\"손흥민 리그컵에서 시즌 7호골…코너킥 직접득점\"><mark>손흥민</mark> 리그컵에서 시즌 7호골…코너킥 직접득점</a>, <a class=\"news_tit\" href=\"https://www.yna.co.kr/view/AKR20241220019600007?input=1195m\" onclick=\"return goOtherCR(this, 'a=nws*a.tit&amp;r=26&amp;i=880000D8_000000000000000015117131&amp;g=001.0015117131&amp;u='+urlencode(this.href));\" target=\"_blank\" title=\"드디어 터진 '몰아치기 득점'…손흥민, 12월에만 3골 2도움 펄펄\">드디어 터진 '몰아치기 득점'…<mark>손흥민</mark>, 12월에만 3골 2도움 펄펄</a>, <a class=\"news_tit\" href=\"https://www.starnewskorea.com/stview.php?no=2024122007205350710\" onclick=\"return goOtherCR(this, 'a=nws*a.tit&amp;r=28&amp;i=880000C3_000000000000000003290510&amp;g=108.0003290510&amp;u='+urlencode(this.href));\" target=\"_blank\" title=\"손흥민 미친골에 英매체도 놀랐다 &quot;코너킥으로 직접 득점&quot;→토트넘 평점 3위 '7.9' 호평\"><mark>손흥민</mark> 미친골에 英매체도 놀랐다 \"코너킥으로 직접 득점\"→토트넘 평점...</a>, <a class=\"news_tit\" href=\"https://www.news1.kr/sports/overseas-soccer/5638371\" onclick=\"return goOtherCR(this, 'a=nws*a.tit&amp;r=32&amp;i=08138263_000000000000000007979450&amp;g=421.0007979450&amp;u='+urlencode(this.href));\" target=\"_blank\" title=\"'무관의 한' 풀 기회 잡은 손흥민, 최대 고비는 리그컵 4강 리버풀전\">'무관의 한' 풀 기회 잡은 <mark>손흥민</mark>, 최대 고비는 리그컵 4강 리버풀전</a>, <a class=\"news_tit\" href=\"https://sports.hankooki.com/news/articleView.html?idxno=6884429\" onclick=\"return goOtherCR(this, 'a=nws*b.tit&amp;r=35&amp;i=88155e69_000000000000000000468014&amp;g=5359.0000468014&amp;u='+urlencode(this.href));\" target=\"_blank\" title=\"'패스마스터→원더골 제조기'... 손흥민이 다했다\">'패스마스터→원더골 제조기'... <mark>손흥민</mark>이 다했다</a>]\n",
      "keyword : 손흥민\n"
     ]
    }
   ],
   "source": [
    "keyword=input(\"키워드를 입력하세요 : \")\n",
    "response=requests.get(f\"https://search.naver.com/search.naver?where=news&query={keyword}\")\n",
    "html=response.text\n",
    "soup=BeautifulSoup(html,\"html.parser\")\n",
    "data1 = soup.select(\"a.news_tit\")\n",
    "print(data1)\n",
    "print(f\"keyword : {keyword}\")\n",
    "\n",
    "# for item in data1:\n",
    "#   print(\"=\"*(len(item[\"href\"])+10))\n",
    "#   print(f\"href    : {item[\"href\"]}\\ntitle   : {item[\"title\"]}\")"
   ]
  },
  {
   "cell_type": "code",
   "execution_count": null,
   "metadata": {},
   "outputs": [],
   "source": []
  }
 ],
 "metadata": {
  "kernelspec": {
   "display_name": "Python 3",
   "language": "python",
   "name": "python3"
  },
  "language_info": {
   "codemirror_mode": {
    "name": "ipython",
    "version": 3
   },
   "file_extension": ".py",
   "mimetype": "text/x-python",
   "name": "python",
   "nbconvert_exporter": "python",
   "pygments_lexer": "ipython3",
   "version": "3.13.0"
  }
 },
 "nbformat": 4,
 "nbformat_minor": 2
}
