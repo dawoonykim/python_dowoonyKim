{
 "cells": [
  {
   "cell_type": "code",
   "execution_count": 40,
   "metadata": {},
   "outputs": [],
   "source": [
    "from bs4 import BeautifulSoup\n",
    "import requests\n",
    "from openpyxl import Workbook"
   ]
  },
  {
   "cell_type": "code",
   "execution_count": null,
   "metadata": {},
   "outputs": [],
   "source": [
    "\n",
    "\n",
    "# response = requests.get(\"https://finance.naver.com/marketindex/\")\n",
    "# html = response.text\n",
    "# soup = BeautifulSoup(html, \"html.parser\")\n",
    "# wb = openpyxl.Workbook()\n",
    "# ws = wb.create_sheet(\"환율\")\n",
    "# ws.title = \"Data\"\n",
    "# d = []\n",
    "# Alldata = soup.select(\"#exchangeList\")\n",
    "# for data in Alldata:\n",
    "\n",
    "#     country = data[\"h3.h_lst span.blind\"]\n",
    "#     print(country)\n",
    "#     exchange_rate = data[\"span.value\"]\n",
    "#     print(exchange_rate)\n",
    "#     print(f\"화폐: {country}, 환율: {exchange_rate}\")\n",
    "#     # d.append([country, exchange_rate])\n",
    "\n",
    "# #     for row in d:\n",
    "# #         ws.append(row)\n",
    "# # wb.save(\".\\\\ouput\\\\currency.xlsx\")"
   ]
  },
  {
   "cell_type": "code",
   "execution_count": null,
   "metadata": {},
   "outputs": [
    {
     "name": "stdout",
     "output_type": "stream",
     "text": [
      "[['USD', '1,450.80'], ['JPY(100엔)', '925.28'], ['EUR', '1,505.57'], ['CNY', '198.59']]\n"
     ]
    }
   ],
   "source": [
    "\n",
    "from bs4 import BeautifulSoup\n",
    "import requests\n",
    "from openpyxl import Workbook\n",
    "\n",
    "response = requests.get(\"https://finance.naver.com/marketindex/\")\n",
    "html = response.text\n",
    "soup = BeautifulSoup(html, \"html.parser\")\n",
    "# print(soup)\n",
    "country_data = soup.select(\"#exchangeList h3.h_lst span.blind\")\n",
    "currency_data = soup.select(\"#exchangeList span.value\")\n",
    "data = []\n",
    "for country, currency in zip(country_data, currency_data):\n",
    "    # print(country.get_text().split()[-1],currency.get_text())\n",
    "    country_money = country.get_text().split()[-1]\n",
    "    currency_money = currency.get_text()\n",
    "    data.append([country_money, currency_money])\n",
    "\n",
    "print(data)\n",
    "\n",
    "wb = Workbook()\n",
    "ws = wb.active\n",
    "ws.title = \"Money Data\"\n",
    "\n",
    "for row in data:\n",
    "    ws.append(row)\n",
    "\n",
    "wb.save(\".\\\\output\\\\money_data.xlsx\")"
   ]
  },
  {
   "cell_type": "code",
   "execution_count": 44,
   "metadata": {},
   "outputs": [
    {
     "name": "stdout",
     "output_type": "stream",
     "text": [
      "[['USD', '1,449.80'], ['JPY(100엔)', '924.41'], ['EUR', '1,504.31'], ['CNY', '198.43']]\n"
     ]
    }
   ],
   "source": [
    "\n",
    "from bs4 import BeautifulSoup\n",
    "import requests\n",
    "from openpyxl import Workbook\n",
    "\n",
    "response = requests.get(\"https://finance.naver.com/marketindex/\")\n",
    "html = response.text\n",
    "soup = BeautifulSoup(html, \"html.parser\")\n",
    "# print(soup)\n",
    "country_data = soup.select(\"#exchangeList h3.h_lst span.blind\")\n",
    "currency_data = soup.select(\"#exchangeList span.value\")\n",
    "# print(country_data, currency_data)\n",
    "data = []\n",
    "for country, currency in zip(country_data, currency_data):\n",
    "    # print(country.get_text().split()[-1],currency.get_text())\n",
    "    country_money = country.get_text().split()[-1]\n",
    "    currency_money = currency.get_text()\n",
    "    data.append([country_money, currency_money])\n",
    "\n",
    "print(data)\n",
    "\n",
    "wb = Workbook()\n",
    "ws = wb.active\n",
    "ws.title = \"Money Data\"\n",
    "\n",
    "for row in data:\n",
    "    ws.append(row)\n",
    "\n",
    "wb.save(\".\\\\output\\\\money_data.xlsx\")"
   ]
  }
 ],
 "metadata": {
  "kernelspec": {
   "display_name": "Python 3",
   "language": "python",
   "name": "python3"
  },
  "language_info": {
   "codemirror_mode": {
    "name": "ipython",
    "version": 3
   },
   "file_extension": ".py",
   "mimetype": "text/x-python",
   "name": "python",
   "nbconvert_exporter": "python",
   "pygments_lexer": "ipython3",
   "version": "3.13.0"
  }
 },
 "nbformat": 4,
 "nbformat_minor": 2
}
