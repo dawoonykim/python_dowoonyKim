{
 "cells": [
  {
   "cell_type": "code",
   "execution_count": 2,
   "metadata": {},
   "outputs": [],
   "source": [
    "from bs4 import BeautifulSoup\n",
    "import requests"
   ]
  },
  {
   "cell_type": "code",
   "execution_count": null,
   "metadata": {},
   "outputs": [],
   "source": [
    "# response = requests.get(\"https://finance.naver.com/marketindex/\")\n",
    "# html = response.text\n",
    "# soup = BeautifulSoup(html, \"html.parser\")\n",
    "\n",
    "# data = soup.select(\"ul.data_lst\")\n"
   ]
  },
  {
   "cell_type": "code",
   "execution_count": null,
   "metadata": {},
   "outputs": [],
   "source": [
    "# response = requests.get(\"https://finance.naver.com/marketindex/\")\n",
    "# html = response.text\n",
    "# soup = BeautifulSoup(html, \"html.parser\")\n",
    "# data = soup.select(\"ul.data_lst\")\n",
    "# country = data.find(\"h3\", class_=\"h_lst\")\n",
    "# currency = data.find(\"span\", class_=\"blind\")\n",
    "# exchange_rate = data.find(\"span\",class_=\"value\")\n",
    "\n",
    "# print(country)\n",
    "# print(currency)\n",
    "# print(exchange_rate)"
   ]
  },
  {
   "cell_type": "code",
   "execution_count": 2,
   "metadata": {},
   "outputs": [],
   "source": [
    "import requests\n",
    "from bs4 import BeautifulSoup\n",
    "from openpyxl import Workbook"
   ]
  },
  {
   "cell_type": "code",
   "execution_count": 3,
   "metadata": {},
   "outputs": [
    {
     "name": "stdout",
     "output_type": "stream",
     "text": [
      "USD 1,450.40\n",
      "JPY(100엔) 923.82\n",
      "EUR 1,504.86\n",
      "CNY 198.47\n"
     ]
    }
   ],
   "source": [
    "response = requests.get(\"https://finance.naver.com/marketindex/\")\n",
    "html = response.text\n",
    "soup = BeautifulSoup(html, \"html.parser\")\n",
    "\n",
    "country_data = soup.select(\"#exchangeList h3.h_lst span.blind\")\n",
    "# print(country_data)\n",
    "currency_data = soup.select(\"#exchangeList span.value\")\n",
    "# print(currency_data)\n",
    "data = [[\"통화\", \"환율\"]]\n",
    "for country, currency in zip(country_data, currency_data):\n",
    "    country = country.get_text().split()[-1]\n",
    "    currency = currency.get_text()\n",
    "    print(country, currency)\n",
    "    data.append([country, currency])\n",
    "\n",
    "wb = Workbook()\n",
    "ws = wb.active\n",
    "ws.title = \"Country Money Data\"\n",
    "\n",
    "for row in data:\n",
    "    ws.append(row)\n",
    "\n",
    "wb.save(\".\\\\output\\\\practice_exchange_money_data.xlsx\")"
   ]
  }
 ],
 "metadata": {
  "kernelspec": {
   "display_name": "Python 3",
   "language": "python",
   "name": "python3"
  },
  "language_info": {
   "codemirror_mode": {
    "name": "ipython",
    "version": 3
   },
   "file_extension": ".py",
   "mimetype": "text/x-python",
   "name": "python",
   "nbconvert_exporter": "python",
   "pygments_lexer": "ipython3",
   "version": "3.13.0"
  }
 },
 "nbformat": 4,
 "nbformat_minor": 2
}
