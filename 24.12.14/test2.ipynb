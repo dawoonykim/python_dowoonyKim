{
 "cells": [
  {
   "cell_type": "code",
   "execution_count": 2,
   "metadata": {},
   "outputs": [],
   "source": [
    "import numpy as np"
   ]
  },
  {
   "cell_type": "code",
   "execution_count": 55,
   "metadata": {},
   "outputs": [],
   "source": [
    "rng=np.random.default_rng(100)"
   ]
  },
  {
   "cell_type": "code",
   "execution_count": 56,
   "metadata": {},
   "outputs": [
    {
     "name": "stdout",
     "output_type": "stream",
     "text": [
      "[[76 83]\n",
      " [12 59]]\n",
      "230\n"
     ]
    }
   ],
   "source": [
    "ndarr1 = rng.integers(0, 100, size=(2, 2))\n",
    "print(ndarr1)\n",
    "sum = 0\n",
    "for i in range(len(ndarr1)):\n",
    "    for j in range(len(ndarr1[i])):\n",
    "        sum += ndarr1[i][j]\n",
    "\n",
    "print(sum)"
   ]
  },
  {
   "cell_type": "code",
   "execution_count": null,
   "metadata": {},
   "outputs": [],
   "source": []
  },
  {
   "cell_type": "code",
   "execution_count": 82,
   "metadata": {},
   "outputs": [
    {
     "name": "stdout",
     "output_type": "stream",
     "text": [
      "[[35 36 37 38]\n",
      " [39 40 41 42]\n",
      " [43 44 45 46]\n",
      " [47 48 49 50]\n",
      " [51 52 53 54]\n",
      " [55 56 57 58]\n",
      " [59 60 61 62]\n",
      " [63 64 65 66]\n",
      " [67 68 69 70]\n",
      " [71 72 73 74]]\n"
     ]
    }
   ],
   "source": [
    "arr1=np.arange(35,75)\n",
    "# print(arr1)\n",
    "arr2=arr1.reshape(10,4)\n",
    "print(arr2)"
   ]
  },
  {
   "cell_type": "code",
   "execution_count": 63,
   "metadata": {},
   "outputs": [
    {
     "name": "stdout",
     "output_type": "stream",
     "text": [
      "[[71 72 73 74]\n",
      " [67 68 69 70]\n",
      " [63 64 65 66]\n",
      " [59 60 61 62]\n",
      " [55 56 57 58]\n",
      " [51 52 53 54]\n",
      " [47 48 49 50]\n",
      " [43 44 45 46]\n",
      " [39 40 41 42]\n",
      " [35 36 37 38]]\n"
     ]
    }
   ],
   "source": [
    "print(arr2[::-1])"
   ]
  },
  {
   "cell_type": "code",
   "execution_count": 125,
   "metadata": {},
   "outputs": [
    {
     "name": "stdout",
     "output_type": "stream",
     "text": [
      "[[35 36 37 38]\n",
      " [39 40 41 42]\n",
      " [43 44 45 46]\n",
      " [47 48 49 50]\n",
      " [51 52 53 54]\n",
      " [55 56 57 58]\n",
      " [59 60 61 62]\n",
      " [63 64 65 66]\n",
      " [67 68 69 70]\n",
      " [71 72 73 74]] \n",
      "\n",
      "[[41 42]\n",
      " [45 46]\n",
      " [49 50]\n",
      " [53 54]\n",
      " [57 58]\n",
      " [61 62]\n",
      " [65 66]\n",
      " [69 70]]\n"
     ]
    }
   ],
   "source": [
    "print(arr2, \"\\n\")\n",
    "sub_array = np.array([i[2:] for i in arr2[1:9]])\n",
    "print(sub_array)"
   ]
  },
  {
   "cell_type": "code",
   "execution_count": 134,
   "metadata": {},
   "outputs": [
    {
     "name": "stdout",
     "output_type": "stream",
     "text": [
      "[38 42 46 50 54 58 62 66 70 74]\n",
      "[[38]\n",
      " [42]\n",
      " [46]\n",
      " [50]\n",
      " [54]\n",
      " [58]\n",
      " [62]\n",
      " [66]\n",
      " [70]\n",
      " [74]]\n"
     ]
    }
   ],
   "source": [
    "sub_array2=np.array([i[-1] for i in arr2])\n",
    "print(sub_array2)\n",
    "sub_array3=sub_array2.reshape(10,1)\n",
    "print(sub_array3)\n",
    "\n"
   ]
  },
  {
   "cell_type": "code",
   "execution_count": 127,
   "metadata": {},
   "outputs": [
    {
     "name": "stdout",
     "output_type": "stream",
     "text": [
      "[[74]\n",
      " [70]\n",
      " [66]\n",
      " [62]\n",
      " [58]\n",
      " [54]\n",
      " [50]\n",
      " [46]\n",
      " [42]\n",
      " [38]]\n"
     ]
    }
   ],
   "source": [
    "print(sub_array3[::-1])"
   ]
  },
  {
   "cell_type": "code",
   "execution_count": 129,
   "metadata": {},
   "outputs": [],
   "source": [
    "rng=np.random.default_rng(3)"
   ]
  },
  {
   "cell_type": "code",
   "execution_count": 133,
   "metadata": {},
   "outputs": [
    {
     "name": "stdout",
     "output_type": "stream",
     "text": [
      "[[48 38 17 44 20  6]\n",
      " [30 43 33 20 46 24]\n",
      " [20  8 11 35 40 15]\n",
      " [32 44  8 14 27 29]\n",
      " [20 20  7 31 47 10]]\n",
      "짝수만 출력 : [48 38 44 20  6 30 20 46 24 20  8 40 32 44  8 14 20 20 10]\n"
     ]
    }
   ],
   "source": [
    "li1=rng.integers(1,51,size=(5,6))\n",
    "print(li1)\n",
    "li2=np.array(li1[li1%2==0])\n",
    "print(f\"짝수만 출력 : {li2}\")\n"
   ]
  }
 ],
 "metadata": {
  "kernelspec": {
   "display_name": "Python 3",
   "language": "python",
   "name": "python3"
  },
  "language_info": {
   "codemirror_mode": {
    "name": "ipython",
    "version": 3
   },
   "file_extension": ".py",
   "mimetype": "text/x-python",
   "name": "python",
   "nbconvert_exporter": "python",
   "pygments_lexer": "ipython3",
   "version": "3.13.0"
  }
 },
 "nbformat": 4,
 "nbformat_minor": 2
}
