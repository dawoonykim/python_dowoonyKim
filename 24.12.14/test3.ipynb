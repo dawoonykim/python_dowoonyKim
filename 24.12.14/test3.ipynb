{
 "cells": [
  {
   "cell_type": "code",
   "execution_count": 3,
   "metadata": {},
   "outputs": [],
   "source": [
    "import numpy as np"
   ]
  },
  {
   "cell_type": "code",
   "execution_count": 18,
   "metadata": {},
   "outputs": [
    {
     "name": "stdout",
     "output_type": "stream",
     "text": [
      "[  1   2   3   4   5   7   8   9  10  11  24 100]\n"
     ]
    }
   ],
   "source": [
    "a = np.array([1, 1, 2, 3, 4, 5, 5, 5, 5, 7, 8, 9, 10, 11, 24, 100])\n",
    "arr1=np.unique(a)\n",
    "print(arr1)"
   ]
  },
  {
   "cell_type": "code",
   "execution_count": 8,
   "metadata": {},
   "outputs": [
    {
     "name": "stdout",
     "output_type": "stream",
     "text": [
      "max : 100, min : 1, mean : 15.333333333333334\n"
     ]
    }
   ],
   "source": [
    "max_v = np.max(arr1)\n",
    "min_v = np.min(arr1)\n",
    "mean_v = np.mean(arr1)\n",
    "print(f\"max : {max_v}, min : {min_v}, mean : {mean_v}\")"
   ]
  },
  {
   "cell_type": "code",
   "execution_count": 9,
   "metadata": {},
   "outputs": [
    {
     "name": "stdout",
     "output_type": "stream",
     "text": [
      "sum : 184\n"
     ]
    }
   ],
   "source": [
    "sum = np.sum(arr1)\n",
    "print(f\"sum : {sum}\")"
   ]
  },
  {
   "cell_type": "code",
   "execution_count": 13,
   "metadata": {},
   "outputs": [
    {
     "name": "stdout",
     "output_type": "stream",
     "text": [
      "[  1   1   2   3   4   5   5   5   5   7   8   9  10  11  24 100]\n",
      "5.0\n"
     ]
    }
   ],
   "source": [
    "arr2 = np.sort(a)\n",
    "print(arr2)\n",
    "middle=np.median(arr2)\n",
    "print(middle)"
   ]
  },
  {
   "cell_type": "code",
   "execution_count": 5,
   "metadata": {},
   "outputs": [
    {
     "name": "stdout",
     "output_type": "stream",
     "text": [
      "[[  0   1   2   3   4]\n",
      " [-99   6 -99   8 -99]\n",
      " [-99  11 -99  13 -99]]\n"
     ]
    }
   ],
   "source": [
    "x = np.arange(15, dtype=np.int64).reshape(3, 5)\n",
    "x[1:, ::2] = -99\n",
    "print(x)"
   ]
  },
  {
   "cell_type": "code",
   "execution_count": 54,
   "metadata": {},
   "outputs": [
    {
     "name": "stdout",
     "output_type": "stream",
     "text": [
      "[[  0   1]\n",
      " [-99   6]]\n"
     ]
    }
   ],
   "source": [
    "print(x[:2,:2])"
   ]
  },
  {
   "cell_type": "code",
   "execution_count": 47,
   "metadata": {},
   "outputs": [
    {
     "name": "stdout",
     "output_type": "stream",
     "text": [
      "11\n",
      "1\n",
      "6.0\n"
     ]
    }
   ],
   "source": [
    "print(np.max(x[::,1:2]))\n",
    "print(np.min(x[::,1:2]))\n",
    "print(np.mean(x[::,1:2]))"
   ]
  },
  {
   "cell_type": "code",
   "execution_count": 49,
   "metadata": {},
   "outputs": [
    {
     "name": "stdout",
     "output_type": "stream",
     "text": [
      "0\n",
      "-99\n",
      "-66.0\n"
     ]
    }
   ],
   "source": [
    "print(np.max(x,axis=0)[0])\n",
    "print(np.min(x,axis=0)[0])\n",
    "print(np.mean(x,axis=0)[0])"
   ]
  },
  {
   "cell_type": "code",
   "execution_count": 48,
   "metadata": {},
   "outputs": [
    {
     "name": "stdout",
     "output_type": "stream",
     "text": [
      "-273\n"
     ]
    }
   ],
   "source": [
    "print(np.sum(x[2:]))"
   ]
  },
  {
   "cell_type": "code",
   "execution_count": 42,
   "metadata": {},
   "outputs": [
    {
     "name": "stdout",
     "output_type": "stream",
     "text": [
      "내림차순 : [100  24  11  10   9   8   7   5   5   5   5   4   3   2   1   1]\n"
     ]
    }
   ],
   "source": [
    "argsort = np.argsort(a)\n",
    "print(f\"내림차순 : {a[argsort[::-1]]}\")"
   ]
  }
 ],
 "metadata": {
  "kernelspec": {
   "display_name": "Python 3",
   "language": "python",
   "name": "python3"
  },
  "language_info": {
   "codemirror_mode": {
    "name": "ipython",
    "version": 3
   },
   "file_extension": ".py",
   "mimetype": "text/x-python",
   "name": "python",
   "nbconvert_exporter": "python",
   "pygments_lexer": "ipython3",
   "version": "3.13.0"
  }
 },
 "nbformat": 4,
 "nbformat_minor": 2
}
